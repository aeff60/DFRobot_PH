{
  "nbformat": 4,
  "nbformat_minor": 0,
  "metadata": {
    "colab": {
      "name": "text classification.ipynb",
      "provenance": [],
      "include_colab_link": true
    },
    "kernelspec": {
      "name": "python3",
      "display_name": "Python 3"
    }
  },
  "cells": [
    {
      "cell_type": "markdown",
      "metadata": {
        "id": "view-in-github",
        "colab_type": "text"
      },
      "source": [
        "<a href=\"https://colab.research.google.com/github/aeff60/DFRobot_PH/blob/main/text_classification.ipynb\" target=\"_parent\"><img src=\"https://colab.research.google.com/assets/colab-badge.svg\" alt=\"Open In Colab\"/></a>"
      ]
    },
    {
      "cell_type": "code",
      "metadata": {
        "id": "Wqkn7xGn9R-0",
        "colab": {
          "base_uri": "https://localhost:8080/"
        },
        "outputId": "a0885531-67e7-45ec-9d54-b50843946060"
      },
      "source": [
        "!pip install attacut #ติดตั้ง Library"
      ],
      "execution_count": null,
      "outputs": [
        {
          "output_type": "stream",
          "text": [
            "Collecting attacut\n",
            "\u001b[?25l  Downloading https://files.pythonhosted.org/packages/f6/56/4ab7204bde7468be65d047578192975035d9bc4e786990a407a28a8f75b8/attacut-1.0.6-py3-none-any.whl (1.3MB)\n",
            "\u001b[K     |████████████████████████████████| 1.3MB 11.9MB/s \n",
            "\u001b[?25hRequirement already satisfied: numpy>=1.17.0 in /usr/local/lib/python3.7/dist-packages (from attacut) (1.19.5)\n",
            "Requirement already satisfied: six>=1.12.0 in /usr/local/lib/python3.7/dist-packages (from attacut) (1.15.0)\n",
            "Collecting ssg>=0.0.4\n",
            "\u001b[?25l  Downloading https://files.pythonhosted.org/packages/06/2b/9cf956a0088f44895d20ab0aa008d8f87cc1b1a210af14601aaf72dec729/ssg-0.0.6-py3-none-any.whl (473kB)\n",
            "\u001b[K     |████████████████████████████████| 481kB 42.5MB/s \n",
            "\u001b[?25hRequirement already satisfied: torch>=1.2.0 in /usr/local/lib/python3.7/dist-packages (from attacut) (1.8.1+cu101)\n",
            "Collecting nptyping>=0.2.0\n",
            "  Downloading https://files.pythonhosted.org/packages/ad/5b/e8c90a98b8462768ca43ad43021d404b81430fde28a6e8f93a8101fe9a8f/nptyping-1.4.1-py3-none-any.whl\n",
            "Collecting pyyaml>=5.1.2\n",
            "\u001b[?25l  Downloading https://files.pythonhosted.org/packages/7a/a5/393c087efdc78091afa2af9f1378762f9821c9c1d7a22c5753fb5ac5f97a/PyYAML-5.4.1-cp37-cp37m-manylinux1_x86_64.whl (636kB)\n",
            "\u001b[K     |████████████████████████████████| 645kB 40.5MB/s \n",
            "\u001b[?25hCollecting fire>=0.1.3\n",
            "\u001b[?25l  Downloading https://files.pythonhosted.org/packages/11/07/a119a1aa04d37bc819940d95ed7e135a7dcca1c098123a3764a6dcace9e7/fire-0.4.0.tar.gz (87kB)\n",
            "\u001b[K     |████████████████████████████████| 92kB 4.4MB/s \n",
            "\u001b[?25hRequirement already satisfied: docopt>=0.6.2 in /usr/local/lib/python3.7/dist-packages (from attacut) (0.6.2)\n",
            "Collecting python-crfsuite>=0.9.6\n",
            "\u001b[?25l  Downloading https://files.pythonhosted.org/packages/79/47/58f16c46506139f17de4630dbcfb877ce41a6355a1bbf3c443edb9708429/python_crfsuite-0.9.7-cp37-cp37m-manylinux1_x86_64.whl (743kB)\n",
            "\u001b[K     |████████████████████████████████| 747kB 40.1MB/s \n",
            "\u001b[?25hRequirement already satisfied: tqdm>=4.32.2 in /usr/local/lib/python3.7/dist-packages (from ssg>=0.0.4->attacut) (4.41.1)\n",
            "Requirement already satisfied: typing-extensions in /usr/local/lib/python3.7/dist-packages (from torch>=1.2.0->attacut) (3.7.4.3)\n",
            "Collecting typish>=1.7.0\n",
            "\u001b[?25l  Downloading https://files.pythonhosted.org/packages/24/a7/83e450157d1613be0725821f8bd8aadab22217fa5dac4795dcfb9408be95/typish-1.9.2-py3-none-any.whl (45kB)\n",
            "\u001b[K     |████████████████████████████████| 51kB 3.0MB/s \n",
            "\u001b[?25hRequirement already satisfied: termcolor in /usr/local/lib/python3.7/dist-packages (from fire>=0.1.3->attacut) (1.1.0)\n",
            "Building wheels for collected packages: fire\n",
            "  Building wheel for fire (setup.py) ... \u001b[?25l\u001b[?25hdone\n",
            "  Created wheel for fire: filename=fire-0.4.0-py2.py3-none-any.whl size=115928 sha256=a1b8ea2bbedde8cb4c8eab9bf91604f5c8ed2f86cca1d6ba9d5cc5e105196103\n",
            "  Stored in directory: /root/.cache/pip/wheels/af/19/30/1ea0cad502dcb4e66ed5a690279628c827aea38bbbab75d5ed\n",
            "Successfully built fire\n",
            "Installing collected packages: fire, python-crfsuite, ssg, typish, nptyping, pyyaml, attacut\n",
            "  Found existing installation: PyYAML 3.13\n",
            "    Uninstalling PyYAML-3.13:\n",
            "      Successfully uninstalled PyYAML-3.13\n",
            "Successfully installed attacut-1.0.6 fire-0.4.0 nptyping-1.4.1 python-crfsuite-0.9.7 pyyaml-5.4.1 ssg-0.0.6 typish-1.9.2\n"
          ],
          "name": "stdout"
        }
      ]
    },
    {
      "cell_type": "code",
      "metadata": {
        "id": "mkwkID989j0K"
      },
      "source": [
        "from attacut import tokenize #เรียกใช้ Lib"
      ],
      "execution_count": null,
      "outputs": []
    },
    {
      "cell_type": "code",
      "metadata": {
        "id": "vqrV24nY9w-3",
        "colab": {
          "base_uri": "https://localhost:8080/"
        },
        "outputId": "51bec51a-3386-4627-edd0-4d855377859b"
      },
      "source": [
        "tokenize('อาการวันแรกคือตื่นนอนมามีอาการปวดเมื่อยเนื้อเมื่อยตัว มีอาการตัวร้อนมาก พอกินยา อาการคล้ายจะธุเลาพอวันที่สอง ตื่นขึ้นมามีอาการเดิมอีกเช่นเคย ก็ทานยา พอเหงื่ออกก็หาย วันที่สาม พอตื่นนอนก็มีอาการปวดเมื่อยตามร่างกายเช่นเดิม พอกินยา ใช้เวลาประมาณ 3 ชม. ก็หาย')"
      ],
      "execution_count": null,
      "outputs": [
        {
          "output_type": "execute_result",
          "data": {
            "text/plain": [
              "['อาการ',\n",
              " 'วัน',\n",
              " 'แรก',\n",
              " 'คือ',\n",
              " 'ตื่น',\n",
              " 'นอน',\n",
              " 'มา',\n",
              " 'มี',\n",
              " 'อาการ',\n",
              " 'ปวด',\n",
              " 'เมื่อย',\n",
              " 'เนื้อ',\n",
              " 'เมื่อย',\n",
              " 'ตัว',\n",
              " ' ',\n",
              " 'มี',\n",
              " 'อาการ',\n",
              " 'ตัว',\n",
              " 'ร้อน',\n",
              " 'มาก',\n",
              " ' ',\n",
              " 'พอ',\n",
              " 'กินยา',\n",
              " ' ',\n",
              " 'อาการ',\n",
              " 'คล้าย',\n",
              " 'จะ',\n",
              " 'ธุเลา',\n",
              " 'พอ',\n",
              " 'วัน',\n",
              " 'ที่',\n",
              " 'สอง',\n",
              " ' ',\n",
              " 'ตื่น',\n",
              " 'ขึ้น',\n",
              " 'มา',\n",
              " 'มี',\n",
              " 'อาการ',\n",
              " 'เดิม',\n",
              " 'อีก',\n",
              " 'เช่น',\n",
              " 'เคย',\n",
              " ' ',\n",
              " 'ก็',\n",
              " 'ทาน',\n",
              " 'ยา',\n",
              " ' ',\n",
              " 'พอ',\n",
              " 'เหงื่ออก',\n",
              " 'ก็',\n",
              " 'หาย',\n",
              " ' ',\n",
              " 'วัน',\n",
              " 'ที่',\n",
              " 'สาม',\n",
              " ' ',\n",
              " 'พอ',\n",
              " 'ตื่น',\n",
              " 'นอน',\n",
              " 'ก็',\n",
              " 'มี',\n",
              " 'อาการ',\n",
              " 'ปวด',\n",
              " 'เมื่อย',\n",
              " 'ตาม',\n",
              " 'ร่างกาย',\n",
              " 'เช่น',\n",
              " 'เดิม',\n",
              " ' ',\n",
              " 'พอ',\n",
              " 'กิน',\n",
              " 'ยา',\n",
              " ' ',\n",
              " 'ใช้',\n",
              " 'เวลา',\n",
              " 'ประมาณ',\n",
              " ' ',\n",
              " '3',\n",
              " ' ',\n",
              " 'ชม.',\n",
              " ' ',\n",
              " 'ก็',\n",
              " 'หาย']"
            ]
          },
          "metadata": {
            "tags": []
          },
          "execution_count": 3
        }
      ]
    },
    {
      "cell_type": "code",
      "metadata": {
        "id": "eOVj4wny9zPB"
      },
      "source": [
        "Xtrain = ['นิดๆ','นิดหน่อย','น้อยกว่า',\n",
        "          'ปวดหัวมาก','มาก','มากกว่า'\n",
        "          ]\n",
        "Ytrain = ['ไข้หวัด',\n",
        "          'ไข้หวัด',\n",
        "          'ไข้หวัด',\n",
        "          'ไข้เลือดออก',\n",
        "          'ไข้เลือดออก',\n",
        "          'ไข้เลือดออก'\n",
        "          ]\n",
        "Xtest = [' ย่างหนักเลยค่ะหมอ',\n",
        "          'ตื่นขึ้นมามีอาการเดิมอีกเช่นเคยปวดเมีอาการตัวร้อนมาก พอกินยา อาการคล้ายจะธุเลาพอวันที่สอง ตื่นขึ้นมามีอาการเดิมอีกเช่นเคย ก็ทานยา พอเหงื่ออกก็หาย วันที่สาม พอตื่นนอนก็มีอาการปวดเมื่อยตามร่างกายเช่นเดิม ',\n",
        "          'มีอาการตัวร้อนนิดๆ ไอและเจ็บคออมื่อยมาก ',\n",
        "          'เป็นมาวันที่ 3 แล้วค่ะ ตื่นขึ้นมามีอาการเดิมอีกเช่นเคย ปวดหัวมาก',\n",
        "          'เจ็บคอมาก',\n",
        "          'มีไข้นิดหน่อย ปวดหัว ตัวร้อนแต่ไม่เยอะครับ']"
      ],
      "execution_count": null,
      "outputs": []
    },
    {
      "cell_type": "code",
      "metadata": {
        "id": "J8vacMVi-crv"
      },
      "source": [
        "from sklearn.feature_extraction.text import CountVectorizer, TfidfTransformer"
      ],
      "execution_count": null,
      "outputs": []
    },
    {
      "cell_type": "code",
      "metadata": {
        "id": "qLgtRT-M-mGA"
      },
      "source": [
        "count_vect = CountVectorizer(tokenizer=tokenize)"
      ],
      "execution_count": null,
      "outputs": []
    },
    {
      "cell_type": "code",
      "metadata": {
        "id": "nTNuCnv8-wkj"
      },
      "source": [
        "Xtrain_count = count_vect.fit_transform(Xtrain)"
      ],
      "execution_count": null,
      "outputs": []
    },
    {
      "cell_type": "code",
      "metadata": {
        "id": "WX69HTQe-13K",
        "colab": {
          "base_uri": "https://localhost:8080/"
        },
        "outputId": "c83a62a4-2331-486d-c137-f39734726137"
      },
      "source": [
        "Xtrain_count.shape"
      ],
      "execution_count": null,
      "outputs": [
        {
          "output_type": "execute_result",
          "data": {
            "text/plain": [
              "(6, 8)"
            ]
          },
          "metadata": {
            "tags": []
          },
          "execution_count": 8
        }
      ]
    },
    {
      "cell_type": "code",
      "metadata": {
        "id": "wcPr-c3C-5j5",
        "colab": {
          "base_uri": "https://localhost:8080/"
        },
        "outputId": "0a0d828b-b17b-4c1d-8274-895a55541902"
      },
      "source": [
        "Xtrain_count[0].toarray()"
      ],
      "execution_count": null,
      "outputs": [
        {
          "output_type": "execute_result",
          "data": {
            "text/plain": [
              "array([[0, 1, 0, 0, 0, 0, 0, 1]])"
            ]
          },
          "metadata": {
            "tags": []
          },
          "execution_count": 9
        }
      ]
    },
    {
      "cell_type": "code",
      "metadata": {
        "id": "o5DAuSj8_DaE"
      },
      "source": [
        "tf_transformer = TfidfTransformer(use_idf=False)"
      ],
      "execution_count": null,
      "outputs": []
    },
    {
      "cell_type": "code",
      "metadata": {
        "id": "LL2VxMWt_Tw0",
        "colab": {
          "base_uri": "https://localhost:8080/"
        },
        "outputId": "afc4f8cd-994b-406e-8d51-c926c590228b"
      },
      "source": [
        "tf_transformer.fit(Xtrain_count)"
      ],
      "execution_count": null,
      "outputs": [
        {
          "output_type": "execute_result",
          "data": {
            "text/plain": [
              "TfidfTransformer(norm='l2', smooth_idf=True, sublinear_tf=False, use_idf=False)"
            ]
          },
          "metadata": {
            "tags": []
          },
          "execution_count": 11
        }
      ]
    },
    {
      "cell_type": "code",
      "metadata": {
        "id": "APAVlHub_XK0"
      },
      "source": [
        "Xtrain_tf = tf_transformer.transform(Xtrain_count)"
      ],
      "execution_count": null,
      "outputs": []
    },
    {
      "cell_type": "code",
      "metadata": {
        "id": "9TbAcebk_ix0",
        "colab": {
          "base_uri": "https://localhost:8080/"
        },
        "outputId": "cec0b790-d8c0-4a82-aa31-ccd125721b72"
      },
      "source": [
        "Xtrain_tf.shape"
      ],
      "execution_count": null,
      "outputs": [
        {
          "output_type": "execute_result",
          "data": {
            "text/plain": [
              "(6, 8)"
            ]
          },
          "metadata": {
            "tags": []
          },
          "execution_count": 13
        }
      ]
    },
    {
      "cell_type": "code",
      "metadata": {
        "id": "HVQ0JndF_j0T",
        "colab": {
          "base_uri": "https://localhost:8080/"
        },
        "outputId": "d46079ee-7b08-42cd-d7c8-94f07a7f226d"
      },
      "source": [
        "Xtrain_tf[0].toarray()"
      ],
      "execution_count": null,
      "outputs": [
        {
          "output_type": "execute_result",
          "data": {
            "text/plain": [
              "array([[0.        , 0.70710678, 0.        , 0.        , 0.        ,\n",
              "        0.        , 0.        , 0.70710678]])"
            ]
          },
          "metadata": {
            "tags": []
          },
          "execution_count": 14
        }
      ]
    },
    {
      "cell_type": "code",
      "metadata": {
        "id": "1ISHhizq_mf_"
      },
      "source": [
        "from sklearn.naive_bayes import MultinomialNB"
      ],
      "execution_count": null,
      "outputs": []
    },
    {
      "cell_type": "markdown",
      "metadata": {
        "id": "N4b6hVNnaWQk"
      },
      "source": [
        "ทดสอบ\n"
      ]
    },
    {
      "cell_type": "code",
      "metadata": {
        "id": "f_Gi_MiW_xp-"
      },
      "source": [
        "clf = MultinomialNB()"
      ],
      "execution_count": null,
      "outputs": []
    },
    {
      "cell_type": "code",
      "metadata": {
        "id": "J9XgJVYh_125",
        "colab": {
          "base_uri": "https://localhost:8080/"
        },
        "outputId": "eb51e1f9-b4ac-4fed-8392-950807482efd"
      },
      "source": [
        "clf.fit(Xtrain_tf, Ytrain)"
      ],
      "execution_count": null,
      "outputs": [
        {
          "output_type": "execute_result",
          "data": {
            "text/plain": [
              "MultinomialNB(alpha=1.0, class_prior=None, fit_prior=True)"
            ]
          },
          "metadata": {
            "tags": []
          },
          "execution_count": 17
        }
      ]
    },
    {
      "cell_type": "code",
      "metadata": {
        "id": "wHRGKIVa_6AV"
      },
      "source": [
        "Xtest_count = count_vect.transform(Xtest)"
      ],
      "execution_count": null,
      "outputs": []
    },
    {
      "cell_type": "code",
      "metadata": {
        "id": "FklJElPRACLl"
      },
      "source": [
        "Xtest_tf = tf_transformer.transform(Xtest_count)\n"
      ],
      "execution_count": null,
      "outputs": []
    },
    {
      "cell_type": "code",
      "metadata": {
        "id": "-g7xTGkgxm3g",
        "colab": {
          "base_uri": "https://localhost:8080/"
        },
        "outputId": "9422e510-2831-467f-8061-f2535f7fad09"
      },
      "source": [
        "print(Xtest_count)"
      ],
      "execution_count": null,
      "outputs": [
        {
          "output_type": "stream",
          "text": [
            "  (1, 4)\t1\n",
            "  (1, 5)\t1\n",
            "  (2, 1)\t1\n",
            "  (2, 5)\t1\n",
            "  (2, 7)\t1\n",
            "  (3, 4)\t1\n",
            "  (3, 5)\t1\n",
            "  (3, 6)\t1\n",
            "  (4, 5)\t1\n",
            "  (5, 2)\t1\n",
            "  (5, 4)\t1\n",
            "  (5, 6)\t1\n"
          ],
          "name": "stdout"
        }
      ]
    },
    {
      "cell_type": "code",
      "metadata": {
        "colab": {
          "base_uri": "https://localhost:8080/"
        },
        "id": "QoAPBxf2xeJK",
        "outputId": "6051ba7b-12fb-4a52-d2a0-2a020af788f1"
      },
      "source": [
        "print(Xtest_tf)"
      ],
      "execution_count": null,
      "outputs": [
        {
          "output_type": "stream",
          "text": [
            "  (1, 4)\t0.7071067811865475\n",
            "  (1, 5)\t0.7071067811865475\n",
            "  (2, 1)\t0.5773502691896258\n",
            "  (2, 5)\t0.5773502691896258\n",
            "  (2, 7)\t0.5773502691896258\n",
            "  (3, 4)\t0.5773502691896258\n",
            "  (3, 5)\t0.5773502691896258\n",
            "  (3, 6)\t0.5773502691896258\n",
            "  (4, 5)\t1.0\n",
            "  (5, 2)\t0.5773502691896258\n",
            "  (5, 4)\t0.5773502691896258\n",
            "  (5, 6)\t0.5773502691896258\n"
          ],
          "name": "stdout"
        }
      ]
    },
    {
      "cell_type": "code",
      "metadata": {
        "id": "sqkI4QtHAGj9",
        "colab": {
          "base_uri": "https://localhost:8080/"
        },
        "outputId": "c4b84bd9-9263-4b6f-efab-54de6239362c"
      },
      "source": [
        "clf.predict(Xtest_tf)"
      ],
      "execution_count": null,
      "outputs": [
        {
          "output_type": "execute_result",
          "data": {
            "text/plain": [
              "array(['ไข้หวัด', 'ไข้เลือดออก', 'ไข้เลือดออก', 'ไข้เลือดออก',\n",
              "       'ไข้เลือดออก', 'ไข้เลือดออก'], dtype='<U11')"
            ]
          },
          "metadata": {
            "tags": []
          },
          "execution_count": 22
        }
      ]
    },
    {
      "cell_type": "code",
      "metadata": {
        "id": "wuifpPqKI5N9"
      },
      "source": [
        "import joblib #ตัวไว้แพ็คโมเดล"
      ],
      "execution_count": null,
      "outputs": []
    },
    {
      "cell_type": "code",
      "metadata": {
        "colab": {
          "base_uri": "https://localhost:8080/"
        },
        "id": "eKd6tapsI-C5",
        "outputId": "933a6e47-dc0e-48f0-b606-62a7ad1def95"
      },
      "source": [
        "joblib.dump(clf,'TextClassification.model')"
      ],
      "execution_count": null,
      "outputs": [
        {
          "output_type": "execute_result",
          "data": {
            "text/plain": [
              "['TextClassification.model']"
            ]
          },
          "metadata": {
            "tags": []
          },
          "execution_count": 22
        }
      ]
    }
  ]
}